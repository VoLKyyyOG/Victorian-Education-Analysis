{
 "cells": [
  {
   "cell_type": "markdown",
   "metadata": {},
   "source": [
    "# Cleaning the datasets\n",
    "Clean up the datasets related to education (school)"
   ]
  },
  {
   "cell_type": "code",
   "execution_count": 1,
   "metadata": {},
   "outputs": [],
   "source": [
    "# Import libraries\n",
    "import pandas as pd\n",
    "import numpy as np"
   ]
  },
  {
   "cell_type": "code",
   "execution_count": 2,
   "metadata": {},
   "outputs": [],
   "source": [
    "# Import on track year 12 survey \n",
    "df1 = pd.read_csv('dv239-onorackoyear12orequivcomp2016.csv')"
   ]
  },
  {
   "cell_type": "code",
   "execution_count": 3,
   "metadata": {},
   "outputs": [],
   "source": [
    "# Upper case for easier matching with other datasets\n",
    "df1['EDUCATION SECTOR'] = df1['EDUCATION SECTOR'].str.upper()"
   ]
  },
  {
   "cell_type": "code",
   "execution_count": 4,
   "metadata": {},
   "outputs": [],
   "source": [
    "# Drop the adult sector for consistency in sectors (for use with the VCAA dataset)\n",
    "df1 = df1.loc[df1['EDUCATION SECTOR'] != 'ADULT']"
   ]
  },
  {
   "cell_type": "code",
   "execution_count": 5,
   "metadata": {},
   "outputs": [
    {
     "data": {
      "text/html": [
       "<div>\n",
       "<style scoped>\n",
       "    .dataframe tbody tr th:only-of-type {\n",
       "        vertical-align: middle;\n",
       "    }\n",
       "\n",
       "    .dataframe tbody tr th {\n",
       "        vertical-align: top;\n",
       "    }\n",
       "\n",
       "    .dataframe thead th {\n",
       "        text-align: right;\n",
       "    }\n",
       "</style>\n",
       "<table border=\"1\" class=\"dataframe\">\n",
       "  <thead>\n",
       "    <tr style=\"text-align: right;\">\n",
       "      <th></th>\n",
       "      <th>STUDENT ID</th>\n",
       "      <th>DET_Region</th>\n",
       "      <th>METRO/NON-METRO</th>\n",
       "      <th>EDUCATION SECTOR</th>\n",
       "      <th>LOCAL GOVERNMENT AREA</th>\n",
       "      <th>SEX</th>\n",
       "      <th>STUDY STRAND</th>\n",
       "      <th>SES quartile (student residence)</th>\n",
       "      <th>Country_of_birth</th>\n",
       "      <th>LOTE SPOKEN AT HOME</th>\n",
       "      <th>DESTINATION</th>\n",
       "      <th>DESTINATION (including deferrals)</th>\n",
       "    </tr>\n",
       "  </thead>\n",
       "  <tbody>\n",
       "    <tr>\n",
       "      <th>0</th>\n",
       "      <td>1</td>\n",
       "      <td>SOUTH-EASTERN VICTORIA</td>\n",
       "      <td>Metropolitan</td>\n",
       "      <td>GOVERNMENT</td>\n",
       "      <td>Frankston</td>\n",
       "      <td>F</td>\n",
       "      <td>VCE non-VET</td>\n",
       "      <td>Lower-middle</td>\n",
       "      <td></td>\n",
       "      <td></td>\n",
       "      <td>Employed</td>\n",
       "      <td>Deferred</td>\n",
       "    </tr>\n",
       "    <tr>\n",
       "      <th>1</th>\n",
       "      <td>2</td>\n",
       "      <td>NORTH-EASTERN VICTORIA</td>\n",
       "      <td>Non-Metropolitan</td>\n",
       "      <td>INDEPENDENT</td>\n",
       "      <td>Moira</td>\n",
       "      <td>F</td>\n",
       "      <td>VCE non-VET</td>\n",
       "      <td>Lowest</td>\n",
       "      <td></td>\n",
       "      <td></td>\n",
       "      <td>Apprenticeship/traineeship</td>\n",
       "      <td>Apprenticeship/traineeship</td>\n",
       "    </tr>\n",
       "    <tr>\n",
       "      <th>2</th>\n",
       "      <td>3</td>\n",
       "      <td>NORTH-WESTERN VICTORIA</td>\n",
       "      <td>Metropolitan</td>\n",
       "      <td>GOVERNMENT</td>\n",
       "      <td>Banyule</td>\n",
       "      <td>M</td>\n",
       "      <td>VCE non-VET</td>\n",
       "      <td>Lower-middle</td>\n",
       "      <td></td>\n",
       "      <td></td>\n",
       "      <td>NILFET</td>\n",
       "      <td>Deferred</td>\n",
       "    </tr>\n",
       "    <tr>\n",
       "      <th>3</th>\n",
       "      <td>4</td>\n",
       "      <td>SOUTH-WESTERN VICTORIA</td>\n",
       "      <td>Metropolitan</td>\n",
       "      <td>GOVERNMENT</td>\n",
       "      <td>Wyndham</td>\n",
       "      <td>F</td>\n",
       "      <td>VCE VET</td>\n",
       "      <td>Lowest</td>\n",
       "      <td></td>\n",
       "      <td></td>\n",
       "      <td>Certificates/diplomas</td>\n",
       "      <td>Certificates/diplomas</td>\n",
       "    </tr>\n",
       "    <tr>\n",
       "      <th>4</th>\n",
       "      <td>5</td>\n",
       "      <td>SOUTH-WESTERN VICTORIA</td>\n",
       "      <td>Non-Metropolitan</td>\n",
       "      <td>INDEPENDENT</td>\n",
       "      <td>Greater Geelong</td>\n",
       "      <td>F</td>\n",
       "      <td>VCE non-VET</td>\n",
       "      <td>Highest</td>\n",
       "      <td></td>\n",
       "      <td></td>\n",
       "      <td>Employed</td>\n",
       "      <td>Deferred</td>\n",
       "    </tr>\n",
       "  </tbody>\n",
       "</table>\n",
       "</div>"
      ],
      "text/plain": [
       "   STUDENT ID              DET_Region   METRO/NON-METRO EDUCATION SECTOR  \\\n",
       "0           1  SOUTH-EASTERN VICTORIA      Metropolitan       GOVERNMENT   \n",
       "1           2  NORTH-EASTERN VICTORIA  Non-Metropolitan      INDEPENDENT   \n",
       "2           3  NORTH-WESTERN VICTORIA      Metropolitan       GOVERNMENT   \n",
       "3           4  SOUTH-WESTERN VICTORIA      Metropolitan       GOVERNMENT   \n",
       "4           5  SOUTH-WESTERN VICTORIA  Non-Metropolitan      INDEPENDENT   \n",
       "\n",
       "  LOCAL GOVERNMENT AREA SEX STUDY STRAND SES quartile (student residence)  \\\n",
       "0             Frankston   F  VCE non-VET                     Lower-middle   \n",
       "1                 Moira   F  VCE non-VET                           Lowest   \n",
       "2               Banyule   M  VCE non-VET                     Lower-middle   \n",
       "3               Wyndham   F      VCE VET                           Lowest   \n",
       "4       Greater Geelong   F  VCE non-VET                          Highest   \n",
       "\n",
       "  Country_of_birth LOTE SPOKEN AT HOME                DESTINATION   \\\n",
       "0                                                         Employed   \n",
       "1                                       Apprenticeship/traineeship   \n",
       "2                                                           NILFET   \n",
       "3                                            Certificates/diplomas   \n",
       "4                                                         Employed   \n",
       "\n",
       "  DESTINATION (including deferrals)  \n",
       "0                          Deferred  \n",
       "1        Apprenticeship/traineeship  \n",
       "2                          Deferred  \n",
       "3             Certificates/diplomas  \n",
       "4                          Deferred  "
      ]
     },
     "execution_count": 5,
     "metadata": {},
     "output_type": "execute_result"
    }
   ],
   "source": [
    "df1.head()"
   ]
  },
  {
   "cell_type": "code",
   "execution_count": 6,
   "metadata": {},
   "outputs": [
    {
     "data": {
      "text/plain": [
       "STUDENT ID                           0\n",
       "DET_Region                           0\n",
       "METRO/NON-METRO                      0\n",
       "EDUCATION SECTOR                     0\n",
       "LOCAL GOVERNMENT AREA                0\n",
       "SEX                                  0\n",
       "STUDY STRAND                         0\n",
       "SES quartile (student residence)     0\n",
       "Country_of_birth                     0\n",
       "LOTE SPOKEN AT HOME                  0\n",
       "DESTINATION                          0\n",
       "DESTINATION (including deferrals)    0\n",
       "dtype: int64"
      ]
     },
     "execution_count": 6,
     "metadata": {},
     "output_type": "execute_result"
    }
   ],
   "source": [
    "df1.isna().sum()"
   ]
  },
  {
   "cell_type": "code",
   "execution_count": 7,
   "metadata": {},
   "outputs": [],
   "source": [
    "# Output to CSV\n",
    "df1.to_csv('clean_ontrack_2016.csv')"
   ]
  },
  {
   "cell_type": "code",
   "execution_count": 8,
   "metadata": {},
   "outputs": [],
   "source": [
    "# Import VCAA dataset\n",
    "xl = pd.ExcelFile(\"Senior Secondary Achievement and Completion Information  2012-2017.xlsx\")"
   ]
  },
  {
   "cell_type": "code",
   "execution_count": 9,
   "metadata": {},
   "outputs": [
    {
     "data": {
      "text/plain": [
       "['Read Me', 'Definitions', '2012', '2013', '2014', '2015', '2016', '2017']"
      ]
     },
     "execution_count": 9,
     "metadata": {},
     "output_type": "execute_result"
    }
   ],
   "source": [
    "# Find out available sheets\n",
    "xl.sheet_names"
   ]
  },
  {
   "cell_type": "code",
   "execution_count": 10,
   "metadata": {},
   "outputs": [],
   "source": [
    "# Parse Data and a bit of clean up\n",
    "# We are only looking at 2016-2017 for analysis for better match with other datasets\n",
    "df2 = xl.parse(\"2017\").fillna(0)\n",
    "df3 = xl.parse(\"2016\").fillna(0)"
   ]
  },
  {
   "cell_type": "code",
   "execution_count": 11,
   "metadata": {},
   "outputs": [],
   "source": [
    "# Insert years before merging\n",
    "df2.insert(loc=0, column=\"Year\", value='2017')\n",
    "df3.insert(loc=0, column=\"Year\", value='2016')"
   ]
  },
  {
   "cell_type": "code",
   "execution_count": 12,
   "metadata": {},
   "outputs": [],
   "source": [
    "# Rename columns for easier use\n",
    "df2.rename({'APS School/Provider Name': 'School',\n",
    "            'Number of VCE studies at unit 3-4 level taken up by students in 2017': 'Number of Unit 3/4 VCE Stubjects Offered',\n",
    "            'Number of VET certificates with 2017 enrolments': ' Number of VET Subjects Offered',\n",
    "            'Availability of International Baccalaureate (Diploma)': 'IB Offered',\n",
    "            'Number of students enrolled in at least one VCE unit at level 3-4 in 2017': 'Number of VCE Enrollments',\n",
    "            'Number of students enrolled in a VET certificate in 2017': 'Number of VET Enrollments',\n",
    "            'Number of students enrolled in VCAL in 2017': 'Number of VCAL Enrollments',\n",
    "            'Percentage of satisfactory VCE completions in 2017': 'VCE Percentage of Sastisfactory Completion',\n",
    "            'Percentage of VET units of competency completed in 2017': 'VET Percentage of Sastisfactory Completion',\n",
    "            'Percentage of VCAL units completed in 2017': 'VCAL Percentage of Sastisfactory Completion',\n",
    "           }, axis=1, inplace=True)\n",
    "df3.rename({'APS School/Provider Name': 'School',\n",
    "            'Number of VCE studies at unit 3-4 level taken up by students in 2016': 'Number of Unit 3/4 VCE Stubjects Offered',\n",
    "            'Number of VET certificates with 2016 enrolments': ' Number of VET Subjects Offered',\n",
    "            'Availability of International Baccalaureate (Diploma)': 'IB Offered',\n",
    "            'Number of students enrolled in at least one VCE unit at level 3-4 in 2016': 'Number of VCE Enrollments',\n",
    "            'Number of students enrolled in a VET certificate in 2016': 'Number of VET Enrollments',\n",
    "            'Number of students enrolled in VCAL in 2016': 'Number of VCAL Enrollments',\n",
    "            'Percentage of satisfactory VCE completions in 2016': 'VCE Percentage of Sastisfactory Completion',\n",
    "            'Percentage of VET units of competency completed in 2016': 'VET Percentage of Sastisfactory Completion',\n",
    "            'Percentage of VCAL units completed in 2016': 'VCAL Percentage of Sastisfactory Completion',\n",
    "           }, axis=1, inplace=True)"
   ]
  },
  {
   "cell_type": "code",
   "execution_count": 13,
   "metadata": {},
   "outputs": [],
   "source": [
    "df = pd.concat([df2, df3], sort=False)"
   ]
  },
  {
   "cell_type": "code",
   "execution_count": 14,
   "metadata": {},
   "outputs": [],
   "source": [
    "### Clean up data entries\n",
    "# Small School column, replace '*' with 1 for bool\n",
    "df.replace('*', 1, inplace=True)\n",
    "\n",
    "# Results columns, replace '-' with 0\n",
    "df.replace('-', 0, inplace=True)\n",
    "\n",
    "# Results columns, replace I/D with 0 (schools that have not enrolled into VCE)\n",
    "df.replace('I/D', 0, inplace=True)\n",
    "\n",
    "# Adult column, replace 'A' with 1 for bool\n",
    "df.replace('A', 1, inplace=True)\n",
    "\n",
    "# IB column, replace 'Y' with 1 for bool\n",
    "df.replace('Y', 1, inplace=True)\n",
    "\n",
    "# Enrollment columns, replace '<4' with 0\n",
    "df.replace('< 4', 0, inplace=True)"
   ]
  },
  {
   "cell_type": "code",
   "execution_count": 15,
   "metadata": {},
   "outputs": [],
   "source": [
    "# Drop the adult sector as we are only interesed in high schools\n",
    "df = df.drop(df.loc[df['Adult School'] == 1].index)\n",
    "\n",
    "# Furthermore, drop small schools as per warning from the dataset:\n",
    "# A small school is one with 20 or fewer students enrolled in at least one VCE unit at level 3-4 in 2017. \n",
    "# Much care is required in interpreting their results as the overall results might be significantly affected \n",
    "# by those of one or two students.\n",
    "df = df.drop(df.loc[df['Small School'] == 1].index)\n",
    "\n",
    "# Ignore Median VCE study scores that are 0 (schools that did not offer VCE / students failed VCE)\n",
    "df = df.loc[df['Median VCE study score'] != 0]"
   ]
  },
  {
   "cell_type": "code",
   "execution_count": 16,
   "metadata": {},
   "outputs": [],
   "source": [
    "# We can now drop irrelevant columns\n",
    "df = df.drop(['VCAAcd', 'Adult School', 'Small School'], axis=1)"
   ]
  },
  {
   "cell_type": "code",
   "execution_count": 17,
   "metadata": {},
   "outputs": [],
   "source": [
    "# Add in selective school to differentiate\n",
    "selective_schools = ['MELBOURNE HIGH SCHOOL', 'MACROBERTSON GIRLS HIGH SCHOOL', 'NOSSAL HIGH SCHOOL',\\\n",
    "                    'SUZANNE CORY HIGH SCHOOL', 'JOHN MONASH SCIENCE SCHOOL']\n",
    "df.loc[df.School.isin(selective_schools), 'Sector'] = 'SELECTIVE'"
   ]
  },
  {
   "cell_type": "code",
   "execution_count": 18,
   "metadata": {},
   "outputs": [
    {
     "data": {
      "text/plain": [
       "Year                                                        object\n",
       "Sector                                                      object\n",
       "School                                                      object\n",
       "Locality                                                    object\n",
       "Number of Unit 3/4 VCE Stubjects Offered                    object\n",
       " Number of VET Subjects Offered                             object\n",
       "IB Offered                                                   int64\n",
       "Number of VCE Enrollments                                   object\n",
       "Number of VET Enrollments                                   object\n",
       "Number of VCAL Enrollments                                  object\n",
       "Percentage of VCE students applying for tertiary places    float64\n",
       "VCE Percentage of Sastisfactory Completion                  object\n",
       "Number of students awarded the VCE (Baccalaureate)          object\n",
       "VET Percentage of Sastisfactory Completion                  object\n",
       "VCAL Percentage of Sastisfactory Completion                 object\n",
       "Median VCE study score                                      object\n",
       "Percentage of study scores of 40 and over                   object\n",
       "dtype: object"
      ]
     },
     "execution_count": 18,
     "metadata": {},
     "output_type": "execute_result"
    }
   ],
   "source": [
    "df.dtypes"
   ]
  },
  {
   "cell_type": "code",
   "execution_count": 19,
   "metadata": {},
   "outputs": [],
   "source": [
    "df[df.columns[4:-4]] = df[df.columns[4:-4]].astype(int)\n",
    "df[df.columns[-4:]] = df[df.columns[-4:]].astype(float)"
   ]
  },
  {
   "cell_type": "code",
   "execution_count": 20,
   "metadata": {},
   "outputs": [
    {
     "data": {
      "text/html": [
       "<div>\n",
       "<style scoped>\n",
       "    .dataframe tbody tr th:only-of-type {\n",
       "        vertical-align: middle;\n",
       "    }\n",
       "\n",
       "    .dataframe tbody tr th {\n",
       "        vertical-align: top;\n",
       "    }\n",
       "\n",
       "    .dataframe thead th {\n",
       "        text-align: right;\n",
       "    }\n",
       "</style>\n",
       "<table border=\"1\" class=\"dataframe\">\n",
       "  <thead>\n",
       "    <tr style=\"text-align: right;\">\n",
       "      <th></th>\n",
       "      <th>Year</th>\n",
       "      <th>Sector</th>\n",
       "      <th>School</th>\n",
       "      <th>Locality</th>\n",
       "      <th>Number of Unit 3/4 VCE Stubjects Offered</th>\n",
       "      <th>Number of VET Subjects Offered</th>\n",
       "      <th>IB Offered</th>\n",
       "      <th>Number of VCE Enrollments</th>\n",
       "      <th>Number of VET Enrollments</th>\n",
       "      <th>Number of VCAL Enrollments</th>\n",
       "      <th>Percentage of VCE students applying for tertiary places</th>\n",
       "      <th>VCE Percentage of Sastisfactory Completion</th>\n",
       "      <th>Number of students awarded the VCE (Baccalaureate)</th>\n",
       "      <th>VET Percentage of Sastisfactory Completion</th>\n",
       "      <th>VCAL Percentage of Sastisfactory Completion</th>\n",
       "      <th>Median VCE study score</th>\n",
       "      <th>Percentage of study scores of 40 and over</th>\n",
       "    </tr>\n",
       "  </thead>\n",
       "  <tbody>\n",
       "    <tr>\n",
       "      <th>0</th>\n",
       "      <td>2017</td>\n",
       "      <td>CATHOLIC</td>\n",
       "      <td>ACADEMY OF MARY IMMACULATE</td>\n",
       "      <td>FITZROY</td>\n",
       "      <td>41</td>\n",
       "      <td>6</td>\n",
       "      <td>0</td>\n",
       "      <td>149</td>\n",
       "      <td>17</td>\n",
       "      <td>0</td>\n",
       "      <td>93</td>\n",
       "      <td>96</td>\n",
       "      <td>9</td>\n",
       "      <td>99.0</td>\n",
       "      <td>0.0</td>\n",
       "      <td>31.0</td>\n",
       "      <td>12.4</td>\n",
       "    </tr>\n",
       "    <tr>\n",
       "      <th>3</th>\n",
       "      <td>2017</td>\n",
       "      <td>INDEPENDENT</td>\n",
       "      <td>AITKEN COLLEGE</td>\n",
       "      <td>GREENVALE</td>\n",
       "      <td>52</td>\n",
       "      <td>23</td>\n",
       "      <td>0</td>\n",
       "      <td>165</td>\n",
       "      <td>135</td>\n",
       "      <td>22</td>\n",
       "      <td>94</td>\n",
       "      <td>100</td>\n",
       "      <td>6</td>\n",
       "      <td>91.0</td>\n",
       "      <td>100.0</td>\n",
       "      <td>29.0</td>\n",
       "      <td>6.1</td>\n",
       "    </tr>\n",
       "    <tr>\n",
       "      <th>4</th>\n",
       "      <td>2017</td>\n",
       "      <td>INDEPENDENT</td>\n",
       "      <td>AL SIRAAT COLLEGE</td>\n",
       "      <td>EPPING</td>\n",
       "      <td>12</td>\n",
       "      <td>2</td>\n",
       "      <td>0</td>\n",
       "      <td>34</td>\n",
       "      <td>48</td>\n",
       "      <td>0</td>\n",
       "      <td>100</td>\n",
       "      <td>100</td>\n",
       "      <td>0</td>\n",
       "      <td>99.0</td>\n",
       "      <td>0.0</td>\n",
       "      <td>25.0</td>\n",
       "      <td>2.2</td>\n",
       "    </tr>\n",
       "    <tr>\n",
       "      <th>5</th>\n",
       "      <td>2017</td>\n",
       "      <td>INDEPENDENT</td>\n",
       "      <td>AL-TAQWA COLLEGE</td>\n",
       "      <td>TRUGANINA</td>\n",
       "      <td>27</td>\n",
       "      <td>11</td>\n",
       "      <td>0</td>\n",
       "      <td>177</td>\n",
       "      <td>46</td>\n",
       "      <td>38</td>\n",
       "      <td>92</td>\n",
       "      <td>100</td>\n",
       "      <td>2</td>\n",
       "      <td>93.0</td>\n",
       "      <td>94.0</td>\n",
       "      <td>27.0</td>\n",
       "      <td>3.0</td>\n",
       "    </tr>\n",
       "    <tr>\n",
       "      <th>6</th>\n",
       "      <td>2017</td>\n",
       "      <td>GOVERNMENT</td>\n",
       "      <td>ALBERT PARK COLLEGE</td>\n",
       "      <td>ALBERT PARK</td>\n",
       "      <td>50</td>\n",
       "      <td>19</td>\n",
       "      <td>1</td>\n",
       "      <td>248</td>\n",
       "      <td>39</td>\n",
       "      <td>0</td>\n",
       "      <td>91</td>\n",
       "      <td>99</td>\n",
       "      <td>10</td>\n",
       "      <td>84.0</td>\n",
       "      <td>0.0</td>\n",
       "      <td>32.0</td>\n",
       "      <td>12.5</td>\n",
       "    </tr>\n",
       "  </tbody>\n",
       "</table>\n",
       "</div>"
      ],
      "text/plain": [
       "   Year       Sector                      School     Locality  \\\n",
       "0  2017     CATHOLIC  ACADEMY OF MARY IMMACULATE      FITZROY   \n",
       "3  2017  INDEPENDENT              AITKEN COLLEGE    GREENVALE   \n",
       "4  2017  INDEPENDENT           AL SIRAAT COLLEGE       EPPING   \n",
       "5  2017  INDEPENDENT            AL-TAQWA COLLEGE    TRUGANINA   \n",
       "6  2017   GOVERNMENT         ALBERT PARK COLLEGE  ALBERT PARK   \n",
       "\n",
       "   Number of Unit 3/4 VCE Stubjects Offered   Number of VET Subjects Offered  \\\n",
       "0                                        41                                6   \n",
       "3                                        52                               23   \n",
       "4                                        12                                2   \n",
       "5                                        27                               11   \n",
       "6                                        50                               19   \n",
       "\n",
       "   IB Offered  Number of VCE Enrollments  Number of VET Enrollments  \\\n",
       "0           0                        149                         17   \n",
       "3           0                        165                        135   \n",
       "4           0                         34                         48   \n",
       "5           0                        177                         46   \n",
       "6           1                        248                         39   \n",
       "\n",
       "   Number of VCAL Enrollments  \\\n",
       "0                           0   \n",
       "3                          22   \n",
       "4                           0   \n",
       "5                          38   \n",
       "6                           0   \n",
       "\n",
       "   Percentage of VCE students applying for tertiary places  \\\n",
       "0                                                 93         \n",
       "3                                                 94         \n",
       "4                                                100         \n",
       "5                                                 92         \n",
       "6                                                 91         \n",
       "\n",
       "   VCE Percentage of Sastisfactory Completion  \\\n",
       "0                                          96   \n",
       "3                                         100   \n",
       "4                                         100   \n",
       "5                                         100   \n",
       "6                                          99   \n",
       "\n",
       "   Number of students awarded the VCE (Baccalaureate)  \\\n",
       "0                                                  9    \n",
       "3                                                  6    \n",
       "4                                                  0    \n",
       "5                                                  2    \n",
       "6                                                 10    \n",
       "\n",
       "   VET Percentage of Sastisfactory Completion  \\\n",
       "0                                        99.0   \n",
       "3                                        91.0   \n",
       "4                                        99.0   \n",
       "5                                        93.0   \n",
       "6                                        84.0   \n",
       "\n",
       "   VCAL Percentage of Sastisfactory Completion  Median VCE study score  \\\n",
       "0                                          0.0                    31.0   \n",
       "3                                        100.0                    29.0   \n",
       "4                                          0.0                    25.0   \n",
       "5                                         94.0                    27.0   \n",
       "6                                          0.0                    32.0   \n",
       "\n",
       "   Percentage of study scores of 40 and over  \n",
       "0                                       12.4  \n",
       "3                                        6.1  \n",
       "4                                        2.2  \n",
       "5                                        3.0  \n",
       "6                                       12.5  "
      ]
     },
     "execution_count": 20,
     "metadata": {},
     "output_type": "execute_result"
    }
   ],
   "source": [
    "df.head()"
   ]
  },
  {
   "cell_type": "code",
   "execution_count": 21,
   "metadata": {},
   "outputs": [
    {
     "data": {
      "text/plain": [
       "Year                                                       0\n",
       "Sector                                                     0\n",
       "VCAAcd                                                     0\n",
       "School                                                     0\n",
       "Adult School                                               0\n",
       "Small School                                               0\n",
       "Locality                                                   0\n",
       "Number of Unit 3/4 VCE Stubjects Offered                   0\n",
       " Number of VET Subjects Offered                            0\n",
       "IB Offered                                                 0\n",
       "Number of VCE Enrollments                                  0\n",
       "Number of VET Enrollments                                  0\n",
       "Number of VCAL Enrollments                                 0\n",
       "Percentage of VCE students applying for tertiary places    0\n",
       "VCE Percentage of Sastisfactory Completion                 0\n",
       "Number of students awarded the VCE (Baccalaureate)         0\n",
       "VET Percentage of Sastisfactory Completion                 0\n",
       "VCAL Percentage of Sastisfactory Completion                0\n",
       "Median VCE study score                                     0\n",
       "Percentage of study scores of 40 and over                  0\n",
       "dtype: int64"
      ]
     },
     "execution_count": 21,
     "metadata": {},
     "output_type": "execute_result"
    }
   ],
   "source": [
    "df3.isna().sum()"
   ]
  },
  {
   "cell_type": "code",
   "execution_count": 22,
   "metadata": {},
   "outputs": [],
   "source": [
    "# Export clean data to csv\n",
    "df.to_csv(\"clean_VCAA_data.csv\")"
   ]
  },
  {
   "cell_type": "markdown",
   "metadata": {},
   "source": [
    "Clean up the datasets related to educational funding"
   ]
  },
  {
   "cell_type": "code",
   "execution_count": 23,
   "metadata": {},
   "outputs": [],
   "source": [
    "# Education contractors\n",
    "df4 = pd.ExcelFile('dv240-detcontractors2016.xlsx')"
   ]
  },
  {
   "cell_type": "code",
   "execution_count": 24,
   "metadata": {},
   "outputs": [],
   "source": [
    "df4 = df4.parse('2016 Contractors')"
   ]
  },
  {
   "cell_type": "code",
   "execution_count": 25,
   "metadata": {},
   "outputs": [],
   "source": [
    "# Fix up formatting columns\n",
    "df4.columns = df4.iloc[1]\n",
    "df4 = df4.iloc[2:]"
   ]
  },
  {
   "cell_type": "code",
   "execution_count": 26,
   "metadata": {},
   "outputs": [
    {
     "data": {
      "text/html": [
       "<div>\n",
       "<style scoped>\n",
       "    .dataframe tbody tr th:only-of-type {\n",
       "        vertical-align: middle;\n",
       "    }\n",
       "\n",
       "    .dataframe tbody tr th {\n",
       "        vertical-align: top;\n",
       "    }\n",
       "\n",
       "    .dataframe thead th {\n",
       "        text-align: right;\n",
       "    }\n",
       "</style>\n",
       "<table border=\"1\" class=\"dataframe\">\n",
       "  <thead>\n",
       "    <tr style=\"text-align: right;\">\n",
       "      <th>1</th>\n",
       "      <th>Name</th>\n",
       "      <th>Services provided</th>\n",
       "      <th>Cost ($) ex GST</th>\n",
       "    </tr>\n",
       "  </thead>\n",
       "  <tbody>\n",
       "    <tr>\n",
       "      <th>2</th>\n",
       "      <td>139PRIME PTY LTD</td>\n",
       "      <td>Professional Services</td>\n",
       "      <td>26520</td>\n",
       "    </tr>\n",
       "    <tr>\n",
       "      <th>3</th>\n",
       "      <td>8T8 TECHNOLOGIES</td>\n",
       "      <td>IT Services</td>\n",
       "      <td>8140</td>\n",
       "    </tr>\n",
       "    <tr>\n",
       "      <th>4</th>\n",
       "      <td>A ABRAHAMS + OTHERS</td>\n",
       "      <td>Professional Services</td>\n",
       "      <td>23639</td>\n",
       "    </tr>\n",
       "    <tr>\n",
       "      <th>5</th>\n",
       "      <td>A G COOMBS SERVICING PTY LIMITED</td>\n",
       "      <td>Utilities, Infrastructure/Sustainability, Tran...</td>\n",
       "      <td>2029</td>\n",
       "    </tr>\n",
       "    <tr>\n",
       "      <th>6</th>\n",
       "      <td>ABORIGINES ADVANCEMENT LEAGUE</td>\n",
       "      <td>Education and Community Development Services</td>\n",
       "      <td>1098</td>\n",
       "    </tr>\n",
       "  </tbody>\n",
       "</table>\n",
       "</div>"
      ],
      "text/plain": [
       "1                              Name  \\\n",
       "2                  139PRIME PTY LTD   \n",
       "3                  8T8 TECHNOLOGIES   \n",
       "4               A ABRAHAMS + OTHERS   \n",
       "5  A G COOMBS SERVICING PTY LIMITED   \n",
       "6     ABORIGINES ADVANCEMENT LEAGUE   \n",
       "\n",
       "1                                  Services provided Cost ($) ex GST   \n",
       "2                              Professional Services            26520  \n",
       "3                                        IT Services             8140  \n",
       "4                              Professional Services            23639  \n",
       "5  Utilities, Infrastructure/Sustainability, Tran...             2029  \n",
       "6       Education and Community Development Services             1098  "
      ]
     },
     "execution_count": 26,
     "metadata": {},
     "output_type": "execute_result"
    }
   ],
   "source": [
    "df4.head()"
   ]
  },
  {
   "cell_type": "code",
   "execution_count": 27,
   "metadata": {},
   "outputs": [
    {
     "data": {
      "text/plain": [
       "1\n",
       "Name                 0\n",
       "Services provided    0\n",
       "Cost ($) ex GST      0\n",
       "dtype: int64"
      ]
     },
     "execution_count": 27,
     "metadata": {},
     "output_type": "execute_result"
    }
   ],
   "source": [
    "df4.isna().sum()"
   ]
  },
  {
   "cell_type": "code",
   "execution_count": 28,
   "metadata": {},
   "outputs": [],
   "source": [
    "# Output to CSV\n",
    "df4.to_csv(\"clean_contractors_2016-2017.csv\")"
   ]
  },
  {
   "cell_type": "code",
   "execution_count": 29,
   "metadata": {},
   "outputs": [],
   "source": [
    "# Victorian State Government Funding\n",
    "df5 = pd.ExcelFile('Department-of-Education-and-Training-financial-statements-2017-18.xlsx')"
   ]
  },
  {
   "cell_type": "code",
   "execution_count": 30,
   "metadata": {},
   "outputs": [],
   "source": [
    "# Parse balance sheet\n",
    "df5 = df5.parse('bal_sheet')"
   ]
  },
  {
   "cell_type": "code",
   "execution_count": 31,
   "metadata": {},
   "outputs": [],
   "source": [
    "# Look at the 2016 and 2017 revised/actual budget only to align with other datasets\n",
    "# Note that values are by the millions\n",
    "df5.drop(['Unnamed: 2', 'Unnamed: 4'], axis=1, inplace=True)\n",
    "\n",
    "# Remove incorrectly formatted rows\n",
    "df5 = df5.iloc[6:-1]"
   ]
  },
  {
   "cell_type": "code",
   "execution_count": 32,
   "metadata": {},
   "outputs": [],
   "source": [
    "# Renname columns for ease of viewing\n",
    "df5.columns = [\"Year\", \"2016\", \"2017\"]"
   ]
  },
  {
   "cell_type": "code",
   "execution_count": 33,
   "metadata": {},
   "outputs": [],
   "source": [
    "# My feel when it doesn't work with normal functions since its a mixed data type\n",
    "df5['2016'] = df5['2016'].apply(lambda x: x.replace(' ', '') if type(x)==str else x)\n",
    "df5['2017'] = df5['2017'].apply(lambda x: x.replace(' ', '') if type(x)==str else x)"
   ]
  },
  {
   "cell_type": "code",
   "execution_count": 34,
   "metadata": {},
   "outputs": [],
   "source": [
    "# Correct formatting and columns\n",
    "df5 = df5.T\n",
    "df5.columns = df5.iloc[0]\n",
    "df5 = df5.iloc[1:]"
   ]
  },
  {
   "cell_type": "code",
   "execution_count": 35,
   "metadata": {},
   "outputs": [],
   "source": [
    "# Filter out total summaries\n",
    "df5 = df5.filter(like='Total', axis=1).astype(int)"
   ]
  },
  {
   "cell_type": "code",
   "execution_count": 36,
   "metadata": {},
   "outputs": [
    {
     "data": {
      "text/html": [
       "<div>\n",
       "<style scoped>\n",
       "    .dataframe tbody tr th:only-of-type {\n",
       "        vertical-align: middle;\n",
       "    }\n",
       "\n",
       "    .dataframe tbody tr th {\n",
       "        vertical-align: top;\n",
       "    }\n",
       "\n",
       "    .dataframe thead th {\n",
       "        text-align: right;\n",
       "    }\n",
       "</style>\n",
       "<table border=\"1\" class=\"dataframe\">\n",
       "  <thead>\n",
       "    <tr style=\"text-align: right;\">\n",
       "      <th>Year</th>\n",
       "      <th>Total financial assets</th>\n",
       "      <th>Total non-financial assets</th>\n",
       "      <th>Total assets</th>\n",
       "      <th>Total liabilities</th>\n",
       "      <th>Total equity</th>\n",
       "    </tr>\n",
       "  </thead>\n",
       "  <tbody>\n",
       "    <tr>\n",
       "      <th>2016</th>\n",
       "      <td>3316</td>\n",
       "      <td>21999</td>\n",
       "      <td>25315</td>\n",
       "      <td>2234</td>\n",
       "      <td>23080</td>\n",
       "    </tr>\n",
       "    <tr>\n",
       "      <th>2017</th>\n",
       "      <td>3255</td>\n",
       "      <td>22494</td>\n",
       "      <td>25749</td>\n",
       "      <td>2498</td>\n",
       "      <td>23251</td>\n",
       "    </tr>\n",
       "  </tbody>\n",
       "</table>\n",
       "</div>"
      ],
      "text/plain": [
       "Year  Total financial assets  Total non-financial assets  Total assets  \\\n",
       "2016                    3316                       21999         25315   \n",
       "2017                    3255                       22494         25749   \n",
       "\n",
       "Year  Total liabilities  Total equity  \n",
       "2016               2234         23080  \n",
       "2017               2498         23251  "
      ]
     },
     "execution_count": 36,
     "metadata": {},
     "output_type": "execute_result"
    }
   ],
   "source": [
    "df5.head()"
   ]
  },
  {
   "cell_type": "code",
   "execution_count": 37,
   "metadata": {},
   "outputs": [
    {
     "data": {
      "text/plain": [
       "Year\n",
       "Total financial assets        0\n",
       "Total non-financial assets    0\n",
       "Total assets                  0\n",
       "Total liabilities             0\n",
       "Total equity                  0\n",
       "dtype: int64"
      ]
     },
     "execution_count": 37,
     "metadata": {},
     "output_type": "execute_result"
    }
   ],
   "source": [
    "df5.isna().sum()"
   ]
  },
  {
   "cell_type": "code",
   "execution_count": 38,
   "metadata": {},
   "outputs": [],
   "source": [
    "# Output to CSV\n",
    "df5.to_csv('clean_VSGfunding_data.csv')"
   ]
  },
  {
   "cell_type": "markdown",
   "metadata": {},
   "source": [
    "Clean up dataset relating to housing rent cost"
   ]
  },
  {
   "cell_type": "code",
   "execution_count": 39,
   "metadata": {},
   "outputs": [],
   "source": [
    "# Import dataframes\n",
    "df6 = pd.read_csv('clean_VCAA_data.csv').drop('Unnamed: 0', axis=1)\n",
    "df7 = pd.ExcelFile('Moving Annual rents by suburb - March quarter 2018.xlsx')"
   ]
  },
  {
   "cell_type": "code",
   "execution_count": 40,
   "metadata": {},
   "outputs": [
    {
     "data": {
      "text/plain": [
       "['1 bedroom flat',\n",
       " '2 bedroom flat',\n",
       " '3 bedroom flat',\n",
       " '2 bedroom house',\n",
       " '3 bedroom house',\n",
       " '4 bedroom house',\n",
       " 'All properties']"
      ]
     },
     "execution_count": 40,
     "metadata": {},
     "output_type": "execute_result"
    }
   ],
   "source": [
    "# Availability of sheets\n",
    "# Has been edited prior to pandas import due to formatting issues\n",
    "# Columns / Index was aligned, Column names were fixed and dropped years not required\n",
    "df7.sheet_names"
   ]
  },
  {
   "cell_type": "code",
   "execution_count": 41,
   "metadata": {},
   "outputs": [],
   "source": [
    "# We only care about the property prices\n",
    "df7 = df7.parse('All properties')"
   ]
  },
  {
   "cell_type": "code",
   "execution_count": 42,
   "metadata": {},
   "outputs": [],
   "source": [
    "# Only include data between 2016-2017 to align with other datasets\n",
    "df7 = pd.concat([df7.filter(like='2016', axis=1), df7.filter(like='2017', axis=1)],\\\n",
    "                axis=1, join_axes=[df7.index])"
   ]
  },
  {
   "cell_type": "code",
   "execution_count": 43,
   "metadata": {},
   "outputs": [],
   "source": [
    "# Fix up the column name before merging\n",
    "# Drop the group total as we are interested in each suburb\n",
    "df7 = df7.reset_index().rename({'index': 'Locality'}, axis=1)\n",
    "df7.Locality = df7.Locality.str.upper()\n",
    "df7 = df7.loc[df7.Locality != 'Group Total']"
   ]
  },
  {
   "cell_type": "code",
   "execution_count": 44,
   "metadata": {},
   "outputs": [],
   "source": [
    "# Caclulate the average / standard deviation of the housing prices between 2016 - 2017\n",
    "df7.insert(loc=1, column=\"Average Housing Price\", value=df7.mean(axis=1))\n",
    "df7.insert(loc=2, column=\"Standard Deviation of Housing Price\", value=df7.std(axis=1))"
   ]
  },
  {
   "cell_type": "code",
   "execution_count": 45,
   "metadata": {},
   "outputs": [
    {
     "data": {
      "text/html": [
       "<div>\n",
       "<style scoped>\n",
       "    .dataframe tbody tr th:only-of-type {\n",
       "        vertical-align: middle;\n",
       "    }\n",
       "\n",
       "    .dataframe tbody tr th {\n",
       "        vertical-align: top;\n",
       "    }\n",
       "\n",
       "    .dataframe thead th {\n",
       "        text-align: right;\n",
       "    }\n",
       "</style>\n",
       "<table border=\"1\" class=\"dataframe\">\n",
       "  <thead>\n",
       "    <tr style=\"text-align: right;\">\n",
       "      <th></th>\n",
       "      <th>Year</th>\n",
       "      <th>Sector</th>\n",
       "      <th>School</th>\n",
       "      <th>Locality</th>\n",
       "      <th>Number of Unit 3/4 VCE Stubjects Offered</th>\n",
       "      <th>Number of VET Subjects Offered</th>\n",
       "      <th>IB Offered</th>\n",
       "      <th>Number of VCE Enrollments</th>\n",
       "      <th>Number of VET Enrollments</th>\n",
       "      <th>Number of VCAL Enrollments</th>\n",
       "      <th>Percentage of VCE students applying for tertiary places</th>\n",
       "      <th>VCE Percentage of Sastisfactory Completion</th>\n",
       "      <th>Number of students awarded the VCE (Baccalaureate)</th>\n",
       "      <th>VET Percentage of Sastisfactory Completion</th>\n",
       "      <th>VCAL Percentage of Sastisfactory Completion</th>\n",
       "      <th>Median VCE study score</th>\n",
       "      <th>Percentage of study scores of 40 and over</th>\n",
       "    </tr>\n",
       "  </thead>\n",
       "  <tbody>\n",
       "    <tr>\n",
       "      <th>0</th>\n",
       "      <td>2017</td>\n",
       "      <td>CATHOLIC</td>\n",
       "      <td>ACADEMY OF MARY IMMACULATE</td>\n",
       "      <td>FITZROY</td>\n",
       "      <td>41</td>\n",
       "      <td>6</td>\n",
       "      <td>0</td>\n",
       "      <td>149</td>\n",
       "      <td>17</td>\n",
       "      <td>0</td>\n",
       "      <td>93</td>\n",
       "      <td>96</td>\n",
       "      <td>9</td>\n",
       "      <td>99.0</td>\n",
       "      <td>0.0</td>\n",
       "      <td>31.0</td>\n",
       "      <td>12.4</td>\n",
       "    </tr>\n",
       "    <tr>\n",
       "      <th>1</th>\n",
       "      <td>2017</td>\n",
       "      <td>INDEPENDENT</td>\n",
       "      <td>AITKEN COLLEGE</td>\n",
       "      <td>GREENVALE</td>\n",
       "      <td>52</td>\n",
       "      <td>23</td>\n",
       "      <td>0</td>\n",
       "      <td>165</td>\n",
       "      <td>135</td>\n",
       "      <td>22</td>\n",
       "      <td>94</td>\n",
       "      <td>100</td>\n",
       "      <td>6</td>\n",
       "      <td>91.0</td>\n",
       "      <td>100.0</td>\n",
       "      <td>29.0</td>\n",
       "      <td>6.1</td>\n",
       "    </tr>\n",
       "  </tbody>\n",
       "</table>\n",
       "</div>"
      ],
      "text/plain": [
       "   Year       Sector                      School   Locality  \\\n",
       "0  2017     CATHOLIC  ACADEMY OF MARY IMMACULATE    FITZROY   \n",
       "1  2017  INDEPENDENT              AITKEN COLLEGE  GREENVALE   \n",
       "\n",
       "   Number of Unit 3/4 VCE Stubjects Offered   Number of VET Subjects Offered  \\\n",
       "0                                        41                                6   \n",
       "1                                        52                               23   \n",
       "\n",
       "   IB Offered  Number of VCE Enrollments  Number of VET Enrollments  \\\n",
       "0           0                        149                         17   \n",
       "1           0                        165                        135   \n",
       "\n",
       "   Number of VCAL Enrollments  \\\n",
       "0                           0   \n",
       "1                          22   \n",
       "\n",
       "   Percentage of VCE students applying for tertiary places  \\\n",
       "0                                                 93         \n",
       "1                                                 94         \n",
       "\n",
       "   VCE Percentage of Sastisfactory Completion  \\\n",
       "0                                          96   \n",
       "1                                         100   \n",
       "\n",
       "   Number of students awarded the VCE (Baccalaureate)  \\\n",
       "0                                                  9    \n",
       "1                                                  6    \n",
       "\n",
       "   VET Percentage of Sastisfactory Completion  \\\n",
       "0                                        99.0   \n",
       "1                                        91.0   \n",
       "\n",
       "   VCAL Percentage of Sastisfactory Completion  Median VCE study score  \\\n",
       "0                                          0.0                    31.0   \n",
       "1                                        100.0                    29.0   \n",
       "\n",
       "   Percentage of study scores of 40 and over  \n",
       "0                                       12.4  \n",
       "1                                        6.1  "
      ]
     },
     "execution_count": 45,
     "metadata": {},
     "output_type": "execute_result"
    }
   ],
   "source": [
    "df6.head(2)"
   ]
  },
  {
   "cell_type": "code",
   "execution_count": 46,
   "metadata": {},
   "outputs": [
    {
     "data": {
      "text/html": [
       "<div>\n",
       "<style scoped>\n",
       "    .dataframe tbody tr th:only-of-type {\n",
       "        vertical-align: middle;\n",
       "    }\n",
       "\n",
       "    .dataframe tbody tr th {\n",
       "        vertical-align: top;\n",
       "    }\n",
       "\n",
       "    .dataframe thead th {\n",
       "        text-align: right;\n",
       "    }\n",
       "</style>\n",
       "<table border=\"1\" class=\"dataframe\">\n",
       "  <thead>\n",
       "    <tr style=\"text-align: right;\">\n",
       "      <th></th>\n",
       "      <th>Locality</th>\n",
       "      <th>Average Housing Price</th>\n",
       "      <th>Standard Deviation of Housing Price</th>\n",
       "      <th>Mar 2016</th>\n",
       "      <th>Jun 2016</th>\n",
       "      <th>Sep 2016</th>\n",
       "      <th>Dec 2016</th>\n",
       "      <th>Mar 2017</th>\n",
       "      <th>Jun 2017</th>\n",
       "      <th>Sep 2017</th>\n",
       "      <th>Dec 2017</th>\n",
       "    </tr>\n",
       "  </thead>\n",
       "  <tbody>\n",
       "    <tr>\n",
       "      <th>0</th>\n",
       "      <td>ALBERT PARK-MIDDLE PARK-WEST ST KILDA</td>\n",
       "      <td>521.375</td>\n",
       "      <td>9.393315</td>\n",
       "      <td>520</td>\n",
       "      <td>500</td>\n",
       "      <td>520</td>\n",
       "      <td>520</td>\n",
       "      <td>520</td>\n",
       "      <td>531</td>\n",
       "      <td>530</td>\n",
       "      <td>530</td>\n",
       "    </tr>\n",
       "    <tr>\n",
       "      <th>1</th>\n",
       "      <td>ARMADALE</td>\n",
       "      <td>423.750</td>\n",
       "      <td>24.968730</td>\n",
       "      <td>400</td>\n",
       "      <td>400</td>\n",
       "      <td>400</td>\n",
       "      <td>410</td>\n",
       "      <td>420</td>\n",
       "      <td>440</td>\n",
       "      <td>450</td>\n",
       "      <td>470</td>\n",
       "    </tr>\n",
       "  </tbody>\n",
       "</table>\n",
       "</div>"
      ],
      "text/plain": [
       "                                Locality  Average Housing Price  \\\n",
       "0  ALBERT PARK-MIDDLE PARK-WEST ST KILDA                521.375   \n",
       "1                               ARMADALE                423.750   \n",
       "\n",
       "   Standard Deviation of Housing Price  Mar 2016  Jun 2016  Sep 2016  \\\n",
       "0                             9.393315       520       500       520   \n",
       "1                            24.968730       400       400       400   \n",
       "\n",
       "   Dec 2016  Mar 2017  Jun 2017  Sep 2017  Dec 2017  \n",
       "0       520       520       531       530       530  \n",
       "1       410       420       440       450       470  "
      ]
     },
     "execution_count": 46,
     "metadata": {},
     "output_type": "execute_result"
    }
   ],
   "source": [
    "df7.head(2)"
   ]
  },
  {
   "cell_type": "code",
   "execution_count": 47,
   "metadata": {},
   "outputs": [],
   "source": [
    "# Fix up the formatting issues\n",
    "# Example ALBERT PARK-MIDDLE PARK-WEST ST KILDA becomes ALBERT PARK\n",
    "# This increases the join on Locality from 70 to 111 which can be seen if you don't run this line\n",
    "df7.Locality = df7.Locality.apply(lambda x: x.split('-')[0])"
   ]
  },
  {
   "cell_type": "code",
   "execution_count": 48,
   "metadata": {},
   "outputs": [],
   "source": [
    "# Merge VCAA dataset with Housing prices \n",
    "df8 = df6.merge(df7[df7.columns[:3]], on='Locality')"
   ]
  },
  {
   "cell_type": "code",
   "execution_count": 49,
   "metadata": {},
   "outputs": [
    {
     "data": {
      "text/plain": [
       "111"
      ]
     },
     "execution_count": 49,
     "metadata": {},
     "output_type": "execute_result"
    }
   ],
   "source": [
    "# This should be 111 not 70 if the lambda function works\n",
    "len(set(df8.Locality))"
   ]
  },
  {
   "cell_type": "code",
   "execution_count": 50,
   "metadata": {},
   "outputs": [],
   "source": [
    "# Ignore any school that did not offer VCE (0 median schools)\n",
    "df8 = df8.loc[df3['Median VCE study score'] != 0]"
   ]
  },
  {
   "cell_type": "code",
   "execution_count": 51,
   "metadata": {},
   "outputs": [
    {
     "name": "stdout",
     "output_type": "stream",
     "text": [
      "Size of whole VCAA dataset: 882\n",
      "Size of whole clean VCAA dataset: 882\n",
      "Size of VCAA and housing area: 396\n",
      "Percentage of data loss is 44.90%\n"
     ]
    }
   ],
   "source": [
    "print(\"Size of whole VCAA dataset: %d\" % len(df))\n",
    "print(\"Size of whole clean VCAA dataset: %d\" % len(df6))\n",
    "print(\"Size of VCAA and housing area: %d\" % len(df8))\n",
    "print(\"Percentage of data loss is %.2f%%\" % (len(df8)/len(df6) * 100))\n",
    "# Note that there is quite a loss in rows when merging\n",
    "# Some are lost due to similar names (ALBERT PARK vs ALBERT PARK-MIDDLE PARK-WEST ST KILDA)\n",
    "# Others are lost due to not existing in the other dataframe"
   ]
  },
  {
   "cell_type": "code",
   "execution_count": 52,
   "metadata": {},
   "outputs": [
    {
     "data": {
      "text/plain": [
       "Locality                               0\n",
       "Average Housing Price                  0\n",
       "Standard Deviation of Housing Price    0\n",
       "Mar 2016                               0\n",
       "Jun 2016                               0\n",
       "Sep 2016                               0\n",
       "Dec 2016                               0\n",
       "Mar 2017                               0\n",
       "Jun 2017                               0\n",
       "Sep 2017                               0\n",
       "Dec 2017                               0\n",
       "dtype: int64"
      ]
     },
     "execution_count": 52,
     "metadata": {},
     "output_type": "execute_result"
    }
   ],
   "source": [
    "df7.isna().sum()"
   ]
  },
  {
   "cell_type": "code",
   "execution_count": 53,
   "metadata": {},
   "outputs": [
    {
     "data": {
      "text/plain": [
       "Year                                                       0\n",
       "Sector                                                     0\n",
       "School                                                     0\n",
       "Locality                                                   0\n",
       "Number of Unit 3/4 VCE Stubjects Offered                   0\n",
       " Number of VET Subjects Offered                            0\n",
       "IB Offered                                                 0\n",
       "Number of VCE Enrollments                                  0\n",
       "Number of VET Enrollments                                  0\n",
       "Number of VCAL Enrollments                                 0\n",
       "Percentage of VCE students applying for tertiary places    0\n",
       "VCE Percentage of Sastisfactory Completion                 0\n",
       "Number of students awarded the VCE (Baccalaureate)         0\n",
       "VET Percentage of Sastisfactory Completion                 0\n",
       "VCAL Percentage of Sastisfactory Completion                0\n",
       "Median VCE study score                                     0\n",
       "Percentage of study scores of 40 and over                  0\n",
       "Average Housing Price                                      0\n",
       "Standard Deviation of Housing Price                        0\n",
       "dtype: int64"
      ]
     },
     "execution_count": 53,
     "metadata": {},
     "output_type": "execute_result"
    }
   ],
   "source": [
    "df8.isna().sum()"
   ]
  },
  {
   "cell_type": "code",
   "execution_count": 54,
   "metadata": {},
   "outputs": [],
   "source": [
    "# Export cleaned dataframes to csv\n",
    "df7.to_csv(\"clean_HousingPrice_data.csv\")\n",
    "df8.to_csv(\"clean_VCAAandHousingPrice.csv\")"
   ]
  },
  {
   "cell_type": "code",
   "execution_count": null,
   "metadata": {},
   "outputs": [],
   "source": []
  }
 ],
 "metadata": {
  "kernelspec": {
   "display_name": "Python 3",
   "language": "python",
   "name": "python3"
  },
  "language_info": {
   "codemirror_mode": {
    "name": "ipython",
    "version": 3
   },
   "file_extension": ".py",
   "mimetype": "text/x-python",
   "name": "python",
   "nbconvert_exporter": "python",
   "pygments_lexer": "ipython3",
   "version": "3.6.5"
  }
 },
 "nbformat": 4,
 "nbformat_minor": 2
}
